{
 "cells": [
  {
   "cell_type": "markdown",
   "id": "f33b5625",
   "metadata": {},
   "source": [
    "## Image processing - food classifier\n",
    "\n",
    "### Part I - Baseline & New Data Test\n",
    "\n",
    "Using our own collected data as the input to the classification model. Compare the results versus the results from the Food-101 dataset"
   ]
  },
  {
   "cell_type": "code",
   "execution_count": null,
   "id": "f2d622de",
   "metadata": {},
   "outputs": [
    {
     "name": "stdout",
     "output_type": "stream",
     "text": [
      "Model initialized, using device: cuda\n",
      "{'label': 'spaghetti_carbonara', 'confidence': 0.742510199546814}\n"
     ]
    }
   ],
   "source": [
    "import sys\n",
    "sys.path.insert(0, './src')\n",
    "from models.classifier import FoodClassifier\n",
    "\n",
    "# Initialize the model\n",
    "model = FoodClassifier()\n",
    "\n",
    "# Model testing, predict a single image\n",
    "image_path = './data/example.JPG'\n",
    "results = model.predict_single(image_path)\n",
    "print(results)"
   ]
  },
  {
   "cell_type": "markdown",
   "id": "48bbb9ae",
   "metadata": {},
   "source": [
    "### Part II - Image Processing Algorithm\n",
    "\n",
    "Process our collected data with the image processing algorithms. Use them as the input to the model, compare the results with Part I"
   ]
  },
  {
   "cell_type": "markdown",
   "id": "73d076a1",
   "metadata": {},
   "source": [
    "### Part III - Model Fine-Tuning\n",
    "\n",
    "Fine-tune the model with our collected data, compare the results with Part II"
   ]
  }
 ],
 "metadata": {
  "kernelspec": {
   "display_name": "base",
   "language": "python",
   "name": "python3"
  },
  "language_info": {
   "codemirror_mode": {
    "name": "ipython",
    "version": 3
   },
   "file_extension": ".py",
   "mimetype": "text/x-python",
   "name": "python",
   "nbconvert_exporter": "python",
   "pygments_lexer": "ipython3",
   "version": "3.12.3"
  }
 },
 "nbformat": 4,
 "nbformat_minor": 5
}
